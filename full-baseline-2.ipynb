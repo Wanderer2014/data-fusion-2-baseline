{
 "cells": [
  {
   "cell_type": "code",
   "execution_count": 1,
   "metadata": {},
   "outputs": [],
   "source": [
    "import pandas as pd"
   ]
  },
  {
   "cell_type": "code",
   "execution_count": 2,
   "metadata": {},
   "outputs": [
    {
     "name": "stdout",
     "output_type": "stream",
     "text": [
      "CPU times: user 15.4 s, sys: 8.31 s, total: 23.7 s\n",
      "Wall time: 20.4 s\n"
     ]
    }
   ],
   "source": [
    "%%time\n",
    "\n",
    "train = pd.read_parquet('data/data_fusion_train.parquet')[['item_name', 'brands']]"
   ]
  },
  {
   "cell_type": "code",
   "execution_count": 3,
   "metadata": {},
   "outputs": [
    {
     "name": "stdout",
     "output_type": "stream",
     "text": [
      "CPU times: user 1.22 s, sys: 543 ms, total: 1.77 s\n",
      "Wall time: 1.59 s\n"
     ]
    }
   ],
   "source": [
    "%%time\n",
    "\n",
    "train['count'] = 1\n",
    "brands_unique = train.groupby('brands').agg({'count': 'count'})\n",
    "brands_unique = brands_unique[brands_unique['count'] > 1]"
   ]
  },
  {
   "cell_type": "code",
   "execution_count": 4,
   "metadata": {},
   "outputs": [
    {
     "data": {
      "text/html": [
       "<div>\n",
       "<style scoped>\n",
       "    .dataframe tbody tr th:only-of-type {\n",
       "        vertical-align: middle;\n",
       "    }\n",
       "\n",
       "    .dataframe tbody tr th {\n",
       "        vertical-align: top;\n",
       "    }\n",
       "\n",
       "    .dataframe thead th {\n",
       "        text-align: right;\n",
       "    }\n",
       "</style>\n",
       "<table border=\"1\" class=\"dataframe\">\n",
       "  <thead>\n",
       "    <tr style=\"text-align: right;\">\n",
       "      <th></th>\n",
       "      <th>count</th>\n",
       "    </tr>\n",
       "    <tr>\n",
       "      <th>brands</th>\n",
       "      <th></th>\n",
       "    </tr>\n",
       "  </thead>\n",
       "  <tbody>\n",
       "    <tr>\n",
       "      <th>десант здоровья</th>\n",
       "      <td>72</td>\n",
       "    </tr>\n",
       "    <tr>\n",
       "      <th>восточные мотивы</th>\n",
       "      <td>66</td>\n",
       "    </tr>\n",
       "    <tr>\n",
       "      <th>peyman</th>\n",
       "      <td>36</td>\n",
       "    </tr>\n",
       "    <tr>\n",
       "      <th>weimar</th>\n",
       "      <td>11</td>\n",
       "    </tr>\n",
       "    <tr>\n",
       "      <th>harmony</th>\n",
       "      <td>258</td>\n",
       "    </tr>\n",
       "  </tbody>\n",
       "</table>\n",
       "</div>"
      ],
      "text/plain": [
       "                  count\n",
       "brands                 \n",
       "десант здоровья      72\n",
       "восточные мотивы     66\n",
       "peyman               36\n",
       "weimar               11\n",
       "harmony             258"
      ]
     },
     "execution_count": 4,
     "metadata": {},
     "output_type": "execute_result"
    }
   ],
   "source": [
    "brands_unique.sample(5, random_state=0)"
   ]
  },
  {
   "cell_type": "code",
   "execution_count": 5,
   "metadata": {},
   "outputs": [
    {
     "data": {
      "text/plain": [
       "15235"
      ]
     },
     "execution_count": 5,
     "metadata": {},
     "output_type": "execute_result"
    }
   ],
   "source": [
    "brands_unique.shape[0]"
   ]
  },
  {
   "cell_type": "code",
   "execution_count": 6,
   "metadata": {},
   "outputs": [],
   "source": [
    "import re\n",
    "\n",
    "def multi_str_re(strings, debug=True, borders=True):\n",
    "    re_str = '|'.join(\n",
    "        [re.escape(s) for s in strings]\n",
    "    )\n",
    "    if borders:\n",
    "        re_str = r'\\b(?:' + re_str + r')(?!\\S)'\n",
    "        \n",
    "    if debug:\n",
    "        print(re_str)\n",
    "    return re.compile(re_str, re.UNICODE)\n",
    "\n",
    "brands_re = multi_str_re(\n",
    "    brands_unique.sort_values(by='count', ascending=False).index, \n",
    "    borders=True, \n",
    "    debug=False\n",
    ")"
   ]
  },
  {
   "cell_type": "code",
   "execution_count": 7,
   "metadata": {},
   "outputs": [
    {
     "name": "stdout",
     "output_type": "stream",
     "text": [
      "CPU times: user 6.63 s, sys: 785 ms, total: 7.41 s\n",
      "Wall time: 7.38 s\n"
     ]
    }
   ],
   "source": [
    "%%time\n",
    "\n",
    "item_name_unique = train.item_name.drop_duplicates().str.lower().drop_duplicates()"
   ]
  },
  {
   "cell_type": "code",
   "execution_count": 8,
   "metadata": {},
   "outputs": [],
   "source": [
    "sample_test = item_name_unique.sample(10000, random_state=0)"
   ]
  },
  {
   "cell_type": "code",
   "execution_count": 9,
   "metadata": {},
   "outputs": [
    {
     "data": {
      "text/plain": [
       "((3093158,), (10000,))"
      ]
     },
     "execution_count": 9,
     "metadata": {},
     "output_type": "execute_result"
    }
   ],
   "source": [
    "item_name_unique.shape, sample_test.shape"
   ]
  },
  {
   "cell_type": "code",
   "execution_count": 10,
   "metadata": {},
   "outputs": [],
   "source": [
    "def find_all_brands(names_series, brands_re):\n",
    "    return names_series.str.findall(brands_re)\n",
    "\n",
    "def find_first_brand(names_series, brands_re):\n",
    "    brands = find_all_brands(names_series, brands_re)\n",
    "    first_brand = brands.map(\n",
    "        lambda b: b[0] if len(b) > 0 else 'отсутствие бренда'\n",
    "    )\n",
    "    return first_brand\n"
   ]
  },
  {
   "cell_type": "code",
   "execution_count": 11,
   "metadata": {},
   "outputs": [
    {
     "name": "stdout",
     "output_type": "stream",
     "text": [
      "CPU times: user 8.39 s, sys: 173 ms, total: 8.57 s\n",
      "Wall time: 8.47 s\n"
     ]
    },
    {
     "data": {
      "text/plain": [
       "24991406    отсутствие бренда\n",
       "4114672                  next\n",
       "23140859    отсутствие бренда\n",
       "9943678     отсутствие бренда\n",
       "22744023                  pro\n",
       "                  ...        \n",
       "20747703    отсутствие бренда\n",
       "17935508    отсутствие бренда\n",
       "6395509     отсутствие бренда\n",
       "40280218    отсутствие бренда\n",
       "1806468     отсутствие бренда\n",
       "Name: item_name, Length: 10000, dtype: object"
      ]
     },
     "execution_count": 11,
     "metadata": {},
     "output_type": "execute_result"
    }
   ],
   "source": [
    "%%time\n",
    "\n",
    "find_first_brand(sample_test, brands_re)"
   ]
  },
  {
   "cell_type": "code",
   "execution_count": 12,
   "metadata": {},
   "outputs": [
    {
     "data": {
      "text/plain": [
       "'Estimated time for train dataset: 2638 seconds'"
      ]
     },
     "execution_count": 12,
     "metadata": {},
     "output_type": "execute_result"
    }
   ],
   "source": [
    "f\"Estimated time for train dataset: {item_name_unique.shape[0] / 10000 * 8.53:.0f} seconds\""
   ]
  },
  {
   "cell_type": "code",
   "execution_count": 13,
   "metadata": {},
   "outputs": [],
   "source": [
    "from joblib import Parallel, delayed\n",
    "N_JOBS=8"
   ]
  },
  {
   "cell_type": "code",
   "execution_count": 14,
   "metadata": {},
   "outputs": [],
   "source": [
    "def find_parallel(names_series, brands_re, n_jobs=N_JOBS):\n",
    "    n_batches = n_jobs\n",
    "    batches = [sample_test.iloc[i::n_batches] for i in range(n_batches)]\n",
    "    brand = Parallel(n_jobs=n_jobs)(\n",
    "        delayed(find_first_brand)(batch, brands_re)\n",
    "        for batch in batches\n",
    "    )\n",
    "    brand = pd.concat(brand)\n",
    "    item_brand_mapping = pd.concat([names_series, brand], axis=1, ignore_index=False)\n",
    "    item_brand_mapping.columns = ['item_name', 'brands']\n",
    "    return item_brand_mapping"
   ]
  },
  {
   "cell_type": "code",
   "execution_count": 15,
   "metadata": {},
   "outputs": [
    {
     "name": "stdout",
     "output_type": "stream",
     "text": [
      "CPU times: user 111 ms, sys: 594 ms, total: 705 ms\n",
      "Wall time: 2.52 s\n"
     ]
    },
    {
     "data": {
      "text/html": [
       "<div>\n",
       "<style scoped>\n",
       "    .dataframe tbody tr th:only-of-type {\n",
       "        vertical-align: middle;\n",
       "    }\n",
       "\n",
       "    .dataframe tbody tr th {\n",
       "        vertical-align: top;\n",
       "    }\n",
       "\n",
       "    .dataframe thead th {\n",
       "        text-align: right;\n",
       "    }\n",
       "</style>\n",
       "<table border=\"1\" class=\"dataframe\">\n",
       "  <thead>\n",
       "    <tr style=\"text-align: right;\">\n",
       "      <th></th>\n",
       "      <th>item_name</th>\n",
       "      <th>brands</th>\n",
       "    </tr>\n",
       "  </thead>\n",
       "  <tbody>\n",
       "    <tr>\n",
       "      <th>1093</th>\n",
       "      <td>баклажаны с орехом состав:орех,чеснок,майонез</td>\n",
       "      <td>отсутствие бренда</td>\n",
       "    </tr>\n",
       "    <tr>\n",
       "      <th>1233</th>\n",
       "      <td>макфреш скомбо</td>\n",
       "      <td>отсутствие бренда</td>\n",
       "    </tr>\n",
       "    <tr>\n",
       "      <th>1631</th>\n",
       "      <td>пиджак муж. kanzler (54)</td>\n",
       "      <td>kanzler</td>\n",
       "    </tr>\n",
       "    <tr>\n",
       "      <th>2163</th>\n",
       "      <td>добрый смузи экзотик рок 0,11л</td>\n",
       "      <td>отсутствие бренда</td>\n",
       "    </tr>\n",
       "    <tr>\n",
       "      <th>2782</th>\n",
       "      <td>хурма  1кг</td>\n",
       "      <td>отсутствие бренда</td>\n",
       "    </tr>\n",
       "    <tr>\n",
       "      <th>...</th>\n",
       "      <td>...</td>\n",
       "      <td>...</td>\n",
       "    </tr>\n",
       "    <tr>\n",
       "      <th>45700978</th>\n",
       "      <td>салат мимоза  350г</td>\n",
       "      <td>отсутствие бренда</td>\n",
       "    </tr>\n",
       "    <tr>\n",
       "      <th>45704823</th>\n",
       "      <td>3. вино эль пасо 0,75л 10-12% бел сух шардоне ...</td>\n",
       "      <td>шардоне</td>\n",
       "    </tr>\n",
       "    <tr>\n",
       "      <th>45706914</th>\n",
       "      <td>фасоль стучковая резанная  россия 1/10кг</td>\n",
       "      <td>отсутствие бренда</td>\n",
       "    </tr>\n",
       "    <tr>\n",
       "      <th>45708526</th>\n",
       "      <td>гун тин шу пуэр</td>\n",
       "      <td>отсутствие бренда</td>\n",
       "    </tr>\n",
       "    <tr>\n",
       "      <th>45711749</th>\n",
       "      <td>сайлентблок для рычаг задней подвески</td>\n",
       "      <td>отсутствие бренда</td>\n",
       "    </tr>\n",
       "  </tbody>\n",
       "</table>\n",
       "<p>10000 rows × 2 columns</p>\n",
       "</div>"
      ],
      "text/plain": [
       "                                                  item_name             brands\n",
       "1093          баклажаны с орехом состав:орех,чеснок,майонез  отсутствие бренда\n",
       "1233                                         макфреш скомбо  отсутствие бренда\n",
       "1631                               пиджак муж. kanzler (54)            kanzler\n",
       "2163                         добрый смузи экзотик рок 0,11л  отсутствие бренда\n",
       "2782                                             хурма  1кг  отсутствие бренда\n",
       "...                                                     ...                ...\n",
       "45700978                                 салат мимоза  350г  отсутствие бренда\n",
       "45704823  3. вино эль пасо 0,75л 10-12% бел сух шардоне ...            шардоне\n",
       "45706914           фасоль стучковая резанная  россия 1/10кг  отсутствие бренда\n",
       "45708526                                    гун тин шу пуэр  отсутствие бренда\n",
       "45711749              сайлентблок для рычаг задней подвески  отсутствие бренда\n",
       "\n",
       "[10000 rows x 2 columns]"
      ]
     },
     "execution_count": 15,
     "metadata": {},
     "output_type": "execute_result"
    }
   ],
   "source": [
    "%%time\n",
    "\n",
    "find_parallel(sample_test, brands_re)"
   ]
  },
  {
   "cell_type": "code",
   "execution_count": 16,
   "metadata": {},
   "outputs": [
    {
     "data": {
      "text/plain": [
       "'Estimated time for train dataset: 851 seconds'"
      ]
     },
     "execution_count": 16,
     "metadata": {},
     "output_type": "execute_result"
    }
   ],
   "source": [
    "f\"Estimated time for train dataset: {item_name_unique.shape[0] / 10000 * 2.75:.0f} seconds\""
   ]
  },
  {
   "cell_type": "code",
   "execution_count": 17,
   "metadata": {},
   "outputs": [],
   "source": [
    "import pickle\n",
    "\n",
    "pickle.dump(brands_re, open('t2_sub/brands_re', 'wb'))"
   ]
  },
  {
   "cell_type": "code",
   "execution_count": 18,
   "metadata": {},
   "outputs": [],
   "source": [
    "sample_test = pd.DataFrame(sample_test)\n",
    "sample_test['id'] = range(sample_test.shape[0])\n",
    "sample_test.to_parquet('t2_sub/data/task2_test_for_user.parquet')"
   ]
  },
  {
   "cell_type": "code",
   "execution_count": 19,
   "metadata": {},
   "outputs": [
    {
     "name": "stdout",
     "output_type": "stream",
     "text": [
      "['brands_re', 'script.py']\n",
      "-rw-r--r-- 1 dmitry.dremov dmitry.dremov 87K фев  4 13:53 t2_sub/submission.zip\n"
     ]
    }
   ],
   "source": [
    "import zipfile \n",
    "compression = zipfile.ZIP_DEFLATED\n",
    "\n",
    "submission_name = 't2_sub/submission.zip'\n",
    "with zipfile.ZipFile(submission_name, 'w') as zipObj:\n",
    "    for filename in [\n",
    "        'brands_re',\n",
    "        'script.py',\n",
    "    ]:\n",
    "        zipObj.write(\n",
    "            f't2_sub/{filename}', \n",
    "            arcname=filename, \n",
    "            compress_type=compression\n",
    "        )\n",
    "    print(zipObj.namelist())\n",
    "\n",
    "!ls -lh {submission_name}"
   ]
  },
  {
   "cell_type": "markdown",
   "metadata": {},
   "source": [
    "# Debug run"
   ]
  },
  {
   "cell_type": "code",
   "execution_count": 20,
   "metadata": {},
   "outputs": [
    {
     "name": "stdout",
     "output_type": "stream",
     "text": [
      "CPU times: user 85.8 ms, sys: 85.5 ms, total: 171 ms\n",
      "Wall time: 3.49 s\n"
     ]
    }
   ],
   "source": [
    "%%time\n",
    "\n",
    "!cd t2_sub; python3 script.py"
   ]
  },
  {
   "cell_type": "code",
   "execution_count": 21,
   "metadata": {},
   "outputs": [
    {
     "data": {
      "text/html": [
       "<div>\n",
       "<style scoped>\n",
       "    .dataframe tbody tr th:only-of-type {\n",
       "        vertical-align: middle;\n",
       "    }\n",
       "\n",
       "    .dataframe tbody tr th {\n",
       "        vertical-align: top;\n",
       "    }\n",
       "\n",
       "    .dataframe thead th {\n",
       "        text-align: right;\n",
       "    }\n",
       "</style>\n",
       "<table border=\"1\" class=\"dataframe\">\n",
       "  <thead>\n",
       "    <tr style=\"text-align: right;\">\n",
       "      <th></th>\n",
       "      <th>item_name</th>\n",
       "      <th>id</th>\n",
       "      <th>pred</th>\n",
       "    </tr>\n",
       "  </thead>\n",
       "  <tbody>\n",
       "    <tr>\n",
       "      <th>0</th>\n",
       "      <td>говядина отборная</td>\n",
       "      <td>0</td>\n",
       "      <td>отсутствие бренда</td>\n",
       "    </tr>\n",
       "    <tr>\n",
       "      <th>1</th>\n",
       "      <td>next violet mix special 2in1 мрц 99 р(99.00)</td>\n",
       "      <td>1</td>\n",
       "      <td>next</td>\n",
       "    </tr>\n",
       "    <tr>\n",
       "      <th>2</th>\n",
       "      <td>4. папка уголок а4 150мкм желтая office spase ...</td>\n",
       "      <td>2</td>\n",
       "      <td>отсутствие бренда</td>\n",
       "    </tr>\n",
       "    <tr>\n",
       "      <th>3</th>\n",
       "      <td>вино черный эликсир кр слад болгария 0,75/11%</td>\n",
       "      <td>3</td>\n",
       "      <td>отсутствие бренда</td>\n",
       "    </tr>\n",
       "    <tr>\n",
       "      <th>4</th>\n",
       "      <td>клей плиточный усиленный 25кг кeramik pro berg...</td>\n",
       "      <td>4</td>\n",
       "      <td>pro</td>\n",
       "    </tr>\n",
       "    <tr>\n",
       "      <th>5</th>\n",
       "      <td>молоко млада 2,5%ж 1л</td>\n",
       "      <td>5</td>\n",
       "      <td>млада</td>\n",
       "    </tr>\n",
       "    <tr>\n",
       "      <th>6</th>\n",
       "      <td>жилет болонь ра325 2д-34 (*5)</td>\n",
       "      <td>6</td>\n",
       "      <td>отсутствие бренда</td>\n",
       "    </tr>\n",
       "    <tr>\n",
       "      <th>7</th>\n",
       "      <td>конфеты ozera пралине с фундуком кг</td>\n",
       "      <td>7</td>\n",
       "      <td>отсутствие бренда</td>\n",
       "    </tr>\n",
       "    <tr>\n",
       "      <th>8</th>\n",
       "      <td>з/паста гелевая дракоша 60мл груша</td>\n",
       "      <td>8</td>\n",
       "      <td>дракоша</td>\n",
       "    </tr>\n",
       "    <tr>\n",
       "      <th>9</th>\n",
       "      <td>влажный корм для котят perfect fit курица, 85 г</td>\n",
       "      <td>9</td>\n",
       "      <td>perfect fit</td>\n",
       "    </tr>\n",
       "  </tbody>\n",
       "</table>\n",
       "</div>"
      ],
      "text/plain": [
       "                                           item_name  id               pred\n",
       "0                                  говядина отборная   0  отсутствие бренда\n",
       "1       next violet mix special 2in1 мрц 99 р(99.00)   1               next\n",
       "2  4. папка уголок а4 150мкм желтая office spase ...   2  отсутствие бренда\n",
       "3      вино черный эликсир кр слад болгария 0,75/11%   3  отсутствие бренда\n",
       "4  клей плиточный усиленный 25кг кeramik pro berg...   4                pro\n",
       "5                              молоко млада 2,5%ж 1л   5              млада\n",
       "6                      жилет болонь ра325 2д-34 (*5)   6  отсутствие бренда\n",
       "7                конфеты ozera пралине с фундуком кг   7  отсутствие бренда\n",
       "8                 з/паста гелевая дракоша 60мл груша   8            дракоша\n",
       "9    влажный корм для котят perfect fit курица, 85 г   9        perfect fit"
      ]
     },
     "execution_count": 21,
     "metadata": {},
     "output_type": "execute_result"
    }
   ],
   "source": [
    "sample_test.head(10).merge(pd.read_csv('t2_sub/answers.csv'), on='id')"
   ]
  },
  {
   "cell_type": "code",
   "execution_count": 22,
   "metadata": {},
   "outputs": [],
   "source": [
    "# Score ?"
   ]
  }
 ],
 "metadata": {
  "kernelspec": {
   "display_name": "Python 3",
   "language": "python",
   "name": "python3"
  },
  "language_info": {
   "codemirror_mode": {
    "name": "ipython",
    "version": 3
   },
   "file_extension": ".py",
   "mimetype": "text/x-python",
   "name": "python",
   "nbconvert_exporter": "python",
   "pygments_lexer": "ipython3",
   "version": "3.6.8"
  }
 },
 "nbformat": 4,
 "nbformat_minor": 2
}
